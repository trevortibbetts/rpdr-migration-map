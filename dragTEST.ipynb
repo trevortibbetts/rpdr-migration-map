{
 "cells": [
  {
   "cell_type": "markdown",
   "id": "e0904ab5-65a9-4fff-908a-2600f2f96954",
   "metadata": {},
   "source": [
    "## Drag Queen Migration Map"
   ]
  },
  {
   "cell_type": "markdown",
   "id": "0c862aa4-495b-4c20-99e4-d5e3c6acf037",
   "metadata": {},
   "source": [
    "The purpose of this project is to map RuPaul's Drag Race contestants hometowns and where they moved to after being on the show. The goal is to find cultural hubs where drag queens cluster. The first section of code is how I obtained my data, by scraping information from a drag racing wiki page. After manually adding XY data for each queen, the next section aims to map and draw lines of their migration routes.  Then, in the last section, I try to make this map interactive. "
   ]
  },
  {
   "cell_type": "code",
   "execution_count": null,
   "id": "1ddf920b-653a-4df6-b195-102b72d6f955",
   "metadata": {},
   "outputs": [],
   "source": [
    "import requests\n",
    "from bs4 import BeautifulSoup\n",
    "import pandas as pd\n",
    "import time"
   ]
  },
  {
   "cell_type": "code",
   "execution_count": null,
   "id": "d4d13a0f-7dd9-4490-a0d8-626560c2266f",
   "metadata": {},
   "outputs": [],
   "source": [
    "base_url = \"https://rupaulsdragrace.fandom.com\""
   ]
  },
  {
   "cell_type": "code",
   "execution_count": null,
   "id": "faf06af9-a4de-4873-a6a3-c1a3881f7f36",
   "metadata": {},
   "outputs": [],
   "source": [
    "category_url = base_url + \"/wiki/Category:RuPaul%27s_Drag_Race_Contestants\"\n",
    "response = requests.get(category_url)\n",
    "soup = BeautifulSoup(response.text, \"html.parser\")"
   ]
  },
  {
   "cell_type": "code",
   "execution_count": null,
   "id": "97dbb1d0-4266-4173-a4f7-e73f146f951d",
   "metadata": {},
   "outputs": [],
   "source": [
    "contestant_data = []\n",
    "contestant_links = soup.select(\".category-page__member-link\")"
   ]
  },
  {
   "cell_type": "code",
   "execution_count": null,
   "id": "4f7a3af7-4893-4766-be44-3579039eed81",
   "metadata": {},
   "outputs": [],
   "source": [
    "for link in contestant_links: \n",
    "    name = link.text.strip()\n",
    "    profile_url = base_url + link[\"href\"]\n",
    "\n",
    "    # Fetch contestant's profile page\n",
    "    profile_response = requests.get(profile_url)\n",
    "    profile_soup = BeautifulSoup(profile_response.text, \"html.parser\")\n",
    "\n",
    "    # Find all \"pi-data\" elements inside the infobox\n",
    "    hometown = \"Not Found\"\n",
    "    location = \"Not Found\"\n",
    "    info_boxes = profile_soup.select(\".pi-item.pi-data\")  # Select all data rows in the infobox\n",
    "    \n",
    "    for box in info_boxes:\n",
    "        label = box.find(class_=\"pi-data-label\")\n",
    "        value = box.find(class_=\"pi-data-value\")\n",
    "\n",
    "        if label and value:\n",
    "            if \"Hometown\" in label.text:\n",
    "                hometown = value.text.strip()\n",
    "            elif \"Location\" in label.text:\n",
    "                location = value.text.strip()\n",
    "\n",
    "    # Store data\n",
    "    contestant_data.append({\"Name\": name, \"Hometown\": hometown, \"Location\": location})\n",
    "    \n",
    "    # Avoid overwhelming the server (optional)\n",
    "    time.sleep(1)"
   ]
  },
  {
   "cell_type": "code",
   "execution_count": null,
   "id": "7dfe1726-96ba-4d94-a0f8-05f588dce747",
   "metadata": {
    "scrolled": true
   },
   "outputs": [],
   "source": [
    "df = pd.DataFrame(contestant_data)\n",
    "print(df)"
   ]
  },
  {
   "cell_type": "code",
   "execution_count": null,
   "id": "2592b4f6-8d91-44b7-8f4c-59522b72afa1",
   "metadata": {},
   "outputs": [],
   "source": [
    "df = pd.DataFrame(contestant_data).drop_duplicates()\n"
   ]
  },
  {
   "cell_type": "code",
   "execution_count": null,
   "id": "e7c382bd-dc6d-4680-aeaf-6b1a14712841",
   "metadata": {
    "scrolled": true
   },
   "outputs": [],
   "source": [
    "df.to_csv(\"drag_race_contestants2.csv\", index=False)\n"
   ]
  },
  {
   "cell_type": "markdown",
   "id": "1ae9842e-0b0a-49ad-aa89-59dc3c3ea46e",
   "metadata": {},
   "source": [
    "# Start HERE"
   ]
  },
  {
   "cell_type": "code",
   "execution_count": null,
   "id": "d227500b-7af3-4ca3-968c-9b614a820d8c",
   "metadata": {},
   "outputs": [],
   "source": [
    "import geopandas as gpd\n",
    "import pandas as pd\n",
    "from shapely.geometry import LineString, Point\n",
    "import matplotlib.pyplot as plt\n",
    "import contextily\n"
   ]
  },
  {
   "cell_type": "code",
   "execution_count": null,
   "id": "bf1884fe-4076-4efb-b263-08237e55e51c",
   "metadata": {},
   "outputs": [],
   "source": [
    "# Load the CSV into a DataFrame\n",
    "df = pd.read_csv(\"drag_race_contestants2.csv\", encoding=\"ISO-8859-1\")\n",
    "df.head()"
   ]
  },
  {
   "cell_type": "code",
   "execution_count": null,
   "id": "c1d525f3-0d3f-4d39-900a-442d491af9b0",
   "metadata": {},
   "outputs": [],
   "source": [
    "df[['home_lat', 'home_lon']] = df['Hcords'].str.split(',', expand=True).astype(float)\n",
    "df[['curr_lat', 'curr_lon']] = df['Lcords'].str.split(',', expand=True).astype(float)"
   ]
  },
  {
   "cell_type": "code",
   "execution_count": null,
   "id": "7669e4d3-5bab-497b-a3d0-d64f32b843db",
   "metadata": {},
   "outputs": [],
   "source": [
    "# Remove rows where 'OmitME' is marked (assuming 'X' is the marker)\n",
    "df = df[df[\"OmitME\"].isna()]"
   ]
  },
  {
   "cell_type": "code",
   "execution_count": null,
   "id": "68c7dc14-7950-4ee0-a70b-361e0fa77293",
   "metadata": {},
   "outputs": [],
   "source": [
    "df['line'] = df.apply(lambda row: LineString([\n",
    "    Point(row['home_lon'], row['home_lat']),\n",
    "    Point(row['curr_lon'], row['curr_lat'])\n",
    "]), axis=1)"
   ]
  },
  {
   "cell_type": "code",
   "execution_count": null,
   "id": "e28d025e-7161-480e-8b1f-7a7acfcfbe2e",
   "metadata": {},
   "outputs": [],
   "source": [
    "gdf_lines = gpd.GeoDataFrame(df, geometry='line', crs='EPSG:4326')\n",
    "gdf_home = gpd.GeoDataFrame(df, geometry=gpd.points_from_xy(df['home_lon'], df['home_lat']), crs='EPSG:4326')\n",
    "gdf_current = gpd.GeoDataFrame(df, geometry=gpd.points_from_xy(df['curr_lon'], df['curr_lat']), crs='EPSG:4326')"
   ]
  },
  {
   "cell_type": "code",
   "execution_count": null,
   "id": "8d8a275e-b5ac-451a-9d67-9d7601112d95",
   "metadata": {},
   "outputs": [],
   "source": [
    "fig, ax = plt.subplots(figsize=(14, 8))\n",
    "gdf_lines.plot(ax=ax, color='red', linewidth=0.8, alpha=0.4)\n",
    "gdf_home.plot(ax=ax, color='blue', markersize=10, label='Hometown')\n",
    "gdf_current.plot(ax=ax, color='green', markersize=10, label='Current')\n",
    "\n",
    "plt.title('Drag Queen Migration Map (RPDR)')\n",
    "plt.legend()\n",
    "plt.show()"
   ]
  },
  {
   "cell_type": "code",
   "execution_count": null,
   "id": "398ce772-91c9-4486-b137-021ed064b8c6",
   "metadata": {},
   "outputs": [],
   "source": [
    "import contextily as ctx\n",
    "\n",
    "# Reproject GeoDataFrames to Web Mercator for basemap\n",
    "gdf_lines = gdf_lines.to_crs(epsg=3857)\n",
    "gdf_home = gdf_home.to_crs(epsg=3857)\n",
    "gdf_current = gdf_current.to_crs(epsg=3857)\n",
    "\n",
    "# Plot with basemap\n",
    "fig, ax = plt.subplots(figsize=(14, 8))\n",
    "gdf_lines.plot(ax=ax, color='red', linewidth=0.8, alpha=0.4)\n",
    "gdf_home.plot(ax=ax, color='blue', markersize=6, label='Hometown')\n",
    "gdf_current.plot(ax=ax, color='green', markersize=13, label='Current')\n",
    "\n",
    "# Add basemap (e.g., OpenStreetMap)\n",
    "ctx.add_basemap(ax, source=ctx.providers.OpenStreetMap.Mapnik)\n",
    "\n",
    "# Optional: remove axis for a cleaner look\n",
    "ax.set_axis_off()\n",
    "\n",
    "plt.title('Drag Queen Migration Map (RPDR)')\n",
    "plt.legend()\n",
    "plt.show()\n"
   ]
  },
  {
   "cell_type": "code",
   "execution_count": null,
   "id": "d0dbb004-398a-436f-bcde-dc06935e58da",
   "metadata": {},
   "outputs": [],
   "source": [
    "plt.savefig(\"drag_queen_migration_map.png\", dpi=300, bbox_inches='tight')\n"
   ]
  },
  {
   "cell_type": "markdown",
   "id": "3de4ada4-0a46-4419-b44a-e931fa94978c",
   "metadata": {},
   "source": [
    "### Adjustment to current viz"
   ]
  },
  {
   "cell_type": "code",
   "execution_count": null,
   "id": "c40f56c4-72b5-41ca-b427-3960097ecf90",
   "metadata": {},
   "outputs": [],
   "source": [
    "location_counts = df.groupby(['curr_lat', 'curr_lon']).size().reset_index(name='queen_count')"
   ]
  },
  {
   "cell_type": "code",
   "execution_count": null,
   "id": "dbc58dc2-b98d-4850-8474-3991c2b2c3d5",
   "metadata": {},
   "outputs": [],
   "source": [
    "df = df.merge(location_counts, on=['curr_lat', 'curr_lon'])"
   ]
  },
  {
   "cell_type": "code",
   "execution_count": null,
   "id": "088e11d6-35be-4f7e-814d-846ac8289b75",
   "metadata": {},
   "outputs": [],
   "source": [
    "gdf_current = gpd.GeoDataFrame(\n",
    "    df.copy(),  # important to avoid side effects\n",
    "    geometry=gpd.points_from_xy(df['curr_lon'], df['curr_lat']),\n",
    "    crs='EPSG:4326'\n",
    ")"
   ]
  },
  {
   "cell_type": "code",
   "execution_count": null,
   "id": "e66979cc-e80d-40e4-90c1-5e79b0e2deee",
   "metadata": {},
   "outputs": [],
   "source": [
    "print(gdf_current.columns)\n"
   ]
  },
  {
   "cell_type": "code",
   "execution_count": null,
   "id": "6e5075b9-7b79-40b6-a104-c6781b038843",
   "metadata": {},
   "outputs": [],
   "source": [
    "gdf_current['marker_size'] = gdf_current['queen_count'] * 10  # Adjust multiplier as needed"
   ]
  },
  {
   "cell_type": "code",
   "execution_count": null,
   "id": "b74e905c-a4eb-4474-9d59-25dd64e3a68f",
   "metadata": {},
   "outputs": [],
   "source": [
    "gdf_current = gdf_current.to_crs(epsg=3857)"
   ]
  },
  {
   "cell_type": "code",
   "execution_count": null,
   "id": "32120d73-be34-4f1b-8230-b3fca0222c59",
   "metadata": {},
   "outputs": [],
   "source": [
    "gdf_current.plot(ax=ax, color='green', markersize=gdf_current['marker_size'], label='Current (scaled)')\n"
   ]
  },
  {
   "cell_type": "code",
   "execution_count": null,
   "id": "65232456-4460-4e60-894a-e524bc2c5c9b",
   "metadata": {},
   "outputs": [],
   "source": [
    "import matplotlib.pyplot as plt\n",
    "\n",
    "fig, ax = plt.subplots(figsize=(14, 8))\n",
    "\n",
    "# Plot lines\n",
    "gdf_lines.plot(ax=ax, color='red', linewidth=0.8, alpha=0.4)\n",
    "\n",
    "# Plot hometowns\n",
    "gdf_home.plot(ax=ax, color='blue', markersize=10, label='Hometown')\n",
    "\n",
    "# Plot current locations with scaled size\n",
    "gdf_current.plot(ax=ax, color='green', markersize=gdf_current['marker_size'], label='Current Location')\n",
    "\n",
    "# Add basemap\n",
    "import contextily as ctx\n",
    "ctx.add_basemap(ax, source=ctx.providers.CartoDB.Positron)\n",
    "\n",
    "# Set plot settings\n",
    "ax.set_axis_off()\n",
    "plt.title('Drag Queen Migration Map (RPDR)')\n",
    "plt.legend()\n",
    "\n",
    "# Show and/or save the map\n",
    "plt.savefig(\"queen_migration.png\", dpi=300, bbox_inches='tight')\n",
    "plt.show()  \n"
   ]
  },
  {
   "cell_type": "markdown",
   "id": "398caa6e-4247-4a92-9dc8-6ce4db167fbd",
   "metadata": {},
   "source": [
    "### Lets run some queries"
   ]
  },
  {
   "cell_type": "code",
   "execution_count": null,
   "id": "e056b242-4cbe-4b34-9534-39cb3d37aa33",
   "metadata": {},
   "outputs": [],
   "source": [
    "num_queens = len(df)\n",
    "print(f\"Number of queens: {num_queens}\")"
   ]
  },
  {
   "cell_type": "code",
   "execution_count": null,
   "id": "61075918-38e5-4b21-8699-78248dcf77eb",
   "metadata": {},
   "outputs": [],
   "source": [
    "# Project lines to EPSG:3857 for meters\n",
    "gdf_lines_m = gdf_lines.to_crs(epsg=3857)\n",
    "\n",
    "# Calculate length in meters and convert to km\n",
    "gdf_lines_m['distance_km'] = gdf_lines_m.length / 1000\n",
    "\n",
    "# Average\n",
    "average_distance = gdf_lines_m['distance_km'].mean()\n",
    "print(f\"Average migration distance: {average_distance:.2f} km\")\n"
   ]
  },
  {
   "cell_type": "code",
   "execution_count": null,
   "id": "eb0020b7-385a-480c-b042-ae268ba69a58",
   "metadata": {},
   "outputs": [],
   "source": [
    "std_distance = gdf_lines_m['distance_km'].std()\n",
    "print(f\"Standard deviation of migration distance: {std_distance:.2f} km\")\n"
   ]
  },
  {
   "cell_type": "code",
   "execution_count": null,
   "id": "c911b557-c237-44fd-9699-97ad6f2dac5a",
   "metadata": {},
   "outputs": [],
   "source": [
    "median_distance = gdf_lines_m['distance_km'].median()\n",
    "print(f\"Median migration distance: {median_distance:.2f} km\")\n"
   ]
  },
  {
   "cell_type": "code",
   "execution_count": null,
   "id": "af3768e4-50f6-4502-871c-40d3848de0f7",
   "metadata": {},
   "outputs": [],
   "source": [
    "import matplotlib.pyplot as plt\n",
    "\n",
    "plt.hist(gdf_lines_m['distance_km'], bins=20, color='blue', edgecolor='black')\n",
    "plt.title(\"Distribution of Migration Distances\")\n",
    "plt.xlabel(\"Distance (km)\")\n",
    "plt.ylabel(\"Frequency\")\n",
    "plt.show()\n",
    "plt.savefig(\"queen_dis_distrib.png\", dpi=300, bbox_inches='tight')\n"
   ]
  },
  {
   "cell_type": "code",
   "execution_count": null,
   "id": "1990f154-f417-48e8-92a4-4f43b89689bc",
   "metadata": {},
   "outputs": [],
   "source": [
    "# Assuming you have a region column (e.g., 'Region' or 'HometownState')\n",
    "avg_distance_by_region = df.groupby('Hometown')['distance_km'].mean()\n",
    "print(avg_distance_by_region)\n"
   ]
  },
  {
   "cell_type": "code",
   "execution_count": null,
   "id": "25077d90-41bb-47db-88e3-8c171fab989c",
   "metadata": {},
   "outputs": [],
   "source": [
    "import folium\n",
    "from folium import GeoJson, GeoJsonTooltip"
   ]
  },
  {
   "cell_type": "code",
   "execution_count": null,
   "id": "b7ff90c1-a1b1-4578-beba-4c2086b41bf4",
   "metadata": {},
   "outputs": [],
   "source": [
    "gdf_lines = gdf_lines.to_crs(epsg=4326)\n",
    "gdf_home = gdf_home.to_crs(epsg=4326)\n",
    "gdf_current = gdf_current.to_crs(epsg=4326)"
   ]
  },
  {
   "cell_type": "code",
   "execution_count": null,
   "id": "4bd9df64-125d-480e-b35d-8a7d4b7047fe",
   "metadata": {},
   "outputs": [],
   "source": [
    "# Center the map (could also use mean of all coordinates)\n",
    "m = folium.Map(location=[39.5, -98.35], zoom_start=4, tiles=\"CartoDB positron\")"
   ]
  },
  {
   "cell_type": "code",
   "execution_count": null,
   "id": "9b9ad054-ea01-4f55-b561-f580b5b1b7e4",
   "metadata": {},
   "outputs": [],
   "source": [
    "# Add migration lines with hover tooltip\n",
    "folium.GeoJson(\n",
    "    gdf_lines,\n",
    "    tooltip=GeoJsonTooltip(fields=['Queen'], aliases=['Queen:']),\n",
    "    style_function=lambda x: {\n",
    "        'color': 'red',\n",
    "        'weight': 2,\n",
    "        'opacity': 0.5\n",
    "    }\n",
    ").add_to(m)"
   ]
  },
  {
   "cell_type": "code",
   "execution_count": null,
   "id": "f4122f62-02db-46e1-8cf4-930666474f59",
   "metadata": {},
   "outputs": [],
   "source": [
    "# Add hometowns\n",
    "for _, row in gdf_home.iterrows():\n",
    "    folium.CircleMarker(\n",
    "        location=[row.geometry.y, row.geometry.x],\n",
    "        radius=3,\n",
    "        color='blue',\n",
    "        fill=True,\n",
    "        fill_opacity=0.8,\n",
    "        popup=row['Queen']\n",
    "    ).add_to(m)"
   ]
  },
  {
   "cell_type": "code",
   "execution_count": null,
   "id": "4e52b451-155b-4ce5-afa6-6508c5257736",
   "metadata": {},
   "outputs": [],
   "source": [
    "for _, row in gdf_current.iterrows():\n",
    "    folium.CircleMarker(\n",
    "        location=[row.geometry.y, row.geometry.x],\n",
    "        radius=row['marker_size'] / 10,\n",
    "        color='green',\n",
    "        fill=True,\n",
    "        fill_opacity=0.8,\n",
    "        popup=row['Queen']\n",
    "    ).add_to(m)\n"
   ]
  },
  {
   "cell_type": "code",
   "execution_count": null,
   "id": "33b9db64-84b2-4346-b485-8f83146aa838",
   "metadata": {},
   "outputs": [],
   "source": [
    "gdf_lines.head()\n"
   ]
  }
 ],
 "metadata": {
  "kernelspec": {
   "display_name": "Python 3 (ipykernel)",
   "language": "python",
   "name": "python3"
  },
  "language_info": {
   "codemirror_mode": {
    "name": "ipython",
    "version": 3
   },
   "file_extension": ".py",
   "mimetype": "text/x-python",
   "name": "python",
   "nbconvert_exporter": "python",
   "pygments_lexer": "ipython3",
   "version": "3.12.6"
  }
 },
 "nbformat": 4,
 "nbformat_minor": 5
}
